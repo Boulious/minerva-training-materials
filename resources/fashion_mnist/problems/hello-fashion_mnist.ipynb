{
 "cells": [
  {
   "cell_type": "markdown",
   "metadata": {},
   "source": [
    "# Welcome to Minerva Fashion Mnist problem\n",
    "\n",
    "CHECK THE VIDEO [![Minerva welcome video](https://i.ytimg.com/vi/bI-YlVJJl-I/2.jpg)](https://www.youtube.com/watch?v=bI-YlVJJl-I&feature=youtu.be)\n",
    "\n",
    "Minerva is a platform that lets you learn real life data science at your own pace, piece by piece, feature at a time.\n",
    "We re-implement solutions to the most difficult data scientific problems so that you can learn how to do that too.\n",
    "Every problem is a collection of small, digestable tasks. Every task is a piece of code, a step in a large machine learning pipeline. You just need to create your implementation!\n",
    "\n",
    "We know what the final score for a well implemented pipeline should be. So as you solve tasks and re-implement parts of the pipeline we will be checking whether your implementation does the job well enough to keep the score high. So beware, we are watching :)\n",
    "\n",
    "# Installation\n",
    "This project assumes `python 3`.\n",
    "The rest of the requirements can be installed via:\n",
    "```bash\n",
    "pip install -r requirements.txt\n",
    "```\n",
    "\n",
    "In order to use neptune monitoring please login via\n",
    "```bash\n",
    "neptune login\n",
    "```\n",
    "Once you are logged in create a project called Minerva. If you want to choose a different name go remember to change the project key in the neptune_config.yaml\n",
    "\n",
    "# How it works\n",
    "\n",
    "1. Run your pipeline to make sure that everything is working correctly:\n",
    "If you want to run it on cloud go\n",
    "```bash\n",
    "neptune send run_minerva.py \\\n",
    "--environment keras-2.0-gpu-py3 \\\n",
    "--worker gcp-gpu-medium \\\n",
    "--config neptune_config.yaml \\\n",
    "-- dry_run\n",
    "```\n",
    "If you want to run it locally but you want to visualize your results with neptune go\n",
    "```bash\n",
    "neptune run minerva.py -- dry_run\n",
    "```\n",
    "If you really like those console logs use\n",
    "```bash\n",
    "python run_minerva.py dry_run\n",
    "```\n",
    "2. Choose a task for example `task1.ipynb` or `task1.py' if you don't like notebooks\n",
    "Write your implementation to the task by filling the body of the solution function and CONFIG dictionary according to the instructions:\n",
    "```python\n",
    "CONFIG = {}\n",
    "def solution():\n",
    "    return something\n",
    "```\n",
    "3. Submit your solution by running one of three options:\n",
    "Run on cloud:\n",
    "```bash\n",
    "neptune send run_minerva.py \\\n",
    "--environment keras-2.0-gpu-py3 \\\n",
    "--worker gcp-gpu-medium \\\n",
    "--config neptune_config.yaml \\\n",
    "-- submit --task_nr 1 --filepath user_solution/notebooks/task1.ipynb\n",
    "```\n",
    "Run locally with neptune monitoring:\n",
    "```bash\n",
    "neptune run minerva.py -- submit --task_nr 1 --filepath user_solution/notebooks/task1.ipynb\n",
    "```\n",
    "Run pure python:\n",
    "```bash\n",
    "python run_minerva.py submit --task_nr 1 --filepath user_solution/notebooks/task1.ipynb\n",
    "```\n",
    "4. Wait for the results in the command line\n",
    "\n",
    "\n",
    "# Fashion Mnist Problem\n",
    "In this teaser we will focus on fashion mnist benchmark dataset. This dataset is a collection of 28x28 greyscale images of clothes that belong to 10 classes. The dataset looks like this:\n",
    "\n",
    "![fashion_mnist](https://raw.githubusercontent.com/zalandoresearch/fashion-mnist/master/doc/img/fashion-mnist-sprite.png)\n",
    "\n",
    "# You will learn\n",
    "- How to work with Keras framework\n",
    "- How to build a deep neural network\n",
    "- How optimization hyperparameters interact with each other and how to tweak them\n",
    "- How to use augmentation and you will build your own keras image generator\n",
    "- How to split data into train and validation sets"
   ]
  },
  {
   "cell_type": "code",
   "execution_count": null,
   "metadata": {
    "collapsed": true
   },
   "outputs": [],
   "source": []
  }
 ],
 "metadata": {
  "kernelspec": {
   "display_name": "Python 2",
   "language": "python",
   "name": "python2"
  },
  "language_info": {
   "codemirror_mode": {
    "name": "ipython",
    "version": 2
   },
   "file_extension": ".py",
   "mimetype": "text/x-python",
   "name": "python",
   "nbconvert_exporter": "python",
   "pygments_lexer": "ipython2",
   "version": "2.7.12"
  },
  "toc": {
   "colors": {
    "hover_highlight": "#DAA520",
    "running_highlight": "#FF0000",
    "selected_highlight": "#FFD700"
   },
   "moveMenuLeft": true,
   "nav_menu": {
    "height": "64px",
    "width": "255px"
   },
   "navigate_menu": true,
   "number_sections": false,
   "sideBar": true,
   "threshold": 4,
   "toc_cell": false,
   "toc_section_display": "block",
   "toc_window_display": false
  }
 },
 "nbformat": 4,
 "nbformat_minor": 1
}
